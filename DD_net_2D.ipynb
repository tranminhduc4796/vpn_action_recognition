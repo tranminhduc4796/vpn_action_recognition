{
 "metadata": {
  "language_info": {
   "codemirror_mode": {
    "name": "ipython",
    "version": 3
   },
   "file_extension": ".py",
   "mimetype": "text/x-python",
   "name": "python",
   "nbconvert_exporter": "python",
   "pygments_lexer": "ipython3",
   "version": "3.8.3-final"
  },
  "orig_nbformat": 2,
  "kernelspec": {
   "name": "python3",
   "display_name": "Python 3.8.3 64-bit (conda)",
   "metadata": {
    "interpreter": {
     "hash": "3b7ace9d27dc1c502e3dae86da5e8433e0698b131550d06efd3a9ab1da013269"
    }
   }
  }
 },
 "nbformat": 4,
 "nbformat_minor": 2,
 "cells": [
  {
   "cell_type": "code",
   "execution_count": 213,
   "metadata": {},
   "outputs": [],
   "source": [
    "import numpy as np\n",
    "from tqdm import tqdm\n",
    "import matplotlib.pyplot as plt\n",
    "from scipy.signal import medfilt\n",
    "import pickle\n",
    "import glob\n",
    "import pandas as pd\n",
    "import os\n",
    "from sklearn.model_selection import train_test_split\n",
    "import tensorflow as tf"
   ]
  },
  {
   "cell_type": "code",
   "execution_count": 214,
   "metadata": {},
   "outputs": [],
   "source": [
    "def read_annotation(annotation_path):\n",
    "    lines = []\n",
    "    with open(annotation_path) as f:\n",
    "        lines.append(f.read().splitlines() )\n",
    "    f.close()\n",
    "    #lines = np.sort(lines)\n",
    "    lines = np.hstack(lines)\n",
    "    return lines"
   ]
  },
  {
   "cell_type": "code",
   "execution_count": 93,
   "metadata": {
    "tags": []
   },
   "outputs": [],
   "source": [
    "## 8 9 27 58 59 60"
   ]
  },
  {
   "cell_type": "code",
   "execution_count": 215,
   "metadata": {},
   "outputs": [],
   "source": [
    "def get_annotation(path):\n",
    "    label_skeleton = ['008','009','027','058','059','060']\n",
    "    skeletons = os.listdir('./skeleton_npy')\n",
    "    given_skeletons = []\n",
    "    given_skeletons_label = []\n",
    "    for i,skeleton in enumerate(skeletons):\n",
    "        if skeleton[-16:-13] in label_skeleton:\n",
    "            given_skeletons.append(skeleton[:-13])\n",
    "            given_skeletons_label.append(skeleton[-16:-13])\n",
    "    return given_skeletons, given_skeletons_label"
   ]
  },
  {
   "cell_type": "code",
   "execution_count": 216,
   "metadata": {},
   "outputs": [],
   "source": [
    "X, y = get_annotation('skeleton_npy')"
   ]
  },
  {
   "cell_type": "code",
   "execution_count": 217,
   "metadata": {},
   "outputs": [],
   "source": [
    "def data_split(examples, labels, train_frac):\n",
    "    X_train, X_tmp, Y_train, Y_tmp = train_test_split( examples, labels,train_size=train_frac, random_state=42)\n",
    "    X_val, X_test, Y_val, Y_test = train_test_split(X_tmp, Y_tmp, train_size=0.5, random_state=42)\n",
    "    return X_train, X_val, X_test,  Y_train, Y_val, Y_test"
   ]
  },
  {
   "cell_type": "code",
   "execution_count": 218,
   "metadata": {},
   "outputs": [],
   "source": [
    "# split data 80% train, 10% val, 10% test\n",
    "X_train, X_val, X_test, y_train, y_val, y_test = data_split(X, y, train_frac=0.8) "
   ]
  },
  {
   "cell_type": "code",
   "execution_count": 72,
   "metadata": {},
   "outputs": [],
   "source": []
  },
  {
   "cell_type": "code",
   "execution_count": null,
   "metadata": {},
   "outputs": [],
   "source": []
  },
  {
   "cell_type": "code",
   "execution_count": 104,
   "metadata": {},
   "outputs": [
    {
     "output_type": "execute_result",
     "data": {
      "text/plain": [
       "('S015C001P015R002A009', '009')"
      ]
     },
     "metadata": {},
     "execution_count": 104
    }
   ],
   "source": [
    "X_train[1], y_train[1]"
   ]
  },
  {
   "cell_type": "code",
   "execution_count": 200,
   "metadata": {
    "tags": []
   },
   "outputs": [],
   "source": [
    "# data = np.load('skeleton_npy/' + 'S015C001P015R002A009' + '.skeleton.npy', allow_pickle=True).item()\n",
    "\n",
    "# items['Pose'].append(data['rgb_body0'])\n",
    "# items['label'].append(y_train)\n",
    "\n",
    "# 0 S008C002P030R001A059\n",
    "# 0 S010C001P021R001A059\n",
    "# 0 S007C003P025R002A060\n",
    "# 0 S007C002P015R002A059\n",
    "# 0 S007C001P017R001A059\n",
    "# 0 S005C002P017R002A008\n",
    "# 0 S014C002P037R001A059\n",
    "# 0 S008C001P015R001A059\n",
    "\n",
    "# data = np.load('skeleton_npy/' + 'S002C003P014R002A058' + '.skeleton.npy', allow_pickle=True).item()\n",
    "# data['rgb_body0'][5]\n",
    "# X_ = pd.DataFrame(data['rgb_body0'])\n",
    "\n",
    "# for i,ID in enumerate(X_train):\n",
    "#     data = np.load('skeleton_npy/' + ID + '.skeleton.npy', allow_pickle=True).item()\n",
    "#     data['rgb_body0'][:, 0] /= 1920\n",
    "#     data['rgb_body0'][:, 1] /= 1080\n",
    "#     index = []\n",
    "#     for i, x in enumerate(data['rgb_body0']):\n",
    "#         if (x[:,0] >=1 ).sum() >0 or (x[:,1] >=1 ).sum() > 0:\n",
    "#             index.append(i)\n",
    "#     data['rgb_body0'] = np.delete(data['rgb_body0'], index, axis=0)\n",
    "\n",
    "\n",
    "            \n",
    "\n",
    "# a = np.array([[0.3,0.4],[1.2,0.3]])\n",
    "# (a>=1).sum()"
   ]
  },
  {
   "cell_type": "code",
   "execution_count": 236,
   "metadata": {},
   "outputs": [
    {
     "output_type": "execute_result",
     "data": {
      "text/plain": [
       "array([614.9242, 500.6074, 381.8552, 325.013 , 423.1867, 523.9885,\n",
       "       599.1812, 622.9269, 434.2078, 543.767 , 626.6938, 640.7875,\n",
       "       610.3607, 714.574 , 817.6556, 848.7445, 619.5135, 724.6998,\n",
       "       824.317 , 856.0753, 411.994 , 642.8584, 621.4941, 670.6653,\n",
       "       636.6366])"
      ]
     },
     "metadata": {},
     "execution_count": 236
    }
   ],
   "source": [
    "data = np.load('skeleton_npy/' + 'S002C003P014R002A058' + '.skeleton.npy', allow_pickle=True).item()\n",
    "data['rgb_body0'][0][:,1]"
   ]
  },
  {
   "cell_type": "code",
   "execution_count": 14,
   "metadata": {},
   "outputs": [],
   "source": [
    "# items = {\n",
    "#     'pose': [],\n",
    "#     'label': []\n",
    "# }\n",
    "# for i,ID in enumerate(X_train):\n",
    "#     data = np.load('skeleton_npy/' + ID + '.skeleton.npy', allow_pickle=True).item()\n",
    "#     items['pose'].append(data['rgb_body0'])\n",
    "#     items['label'].append(y_train[i])\n",
    "\n",
    "    "
   ]
  },
  {
   "cell_type": "code",
   "execution_count": 302,
   "metadata": {},
   "outputs": [],
   "source": [
    "def get_data(data,label):\n",
    "    items = {\n",
    "        'pose': [],\n",
    "        'label': []\n",
    "    }\n",
    "    for i,ID in enumerate(data):\n",
    "        data = np.load('skeleton_npy/' + ID + '.skeleton.npy', allow_pickle=True).item()\n",
    "        indexs = []\n",
    "        for idx, x in enumerate(data['rgb_body0']):\n",
    "            if ((x[:,0] >=1920 ).sum() >0) or ((x[:,1] >=1 ).sum() >= 1080) or np.isnan(x[:,0]).any() or np.isnan(x[:,1]).any():\n",
    "                indexs.append(idx)\n",
    "            data['rgb_body0'][idx][:,0] /=1920\n",
    "            data['rgb_body0'][idx][:,1] /=1080\n",
    "\n",
    "        data['rgb_body0'] = np.delete(data['rgb_body0'], indexs, axis=0)\n",
    "\n",
    "        items['pose'].append(data['rgb_body0'])\n",
    "        items['label'].append(label[i])\n",
    "    return items\n",
    "    "
   ]
  },
  {
   "cell_type": "code",
   "execution_count": 303,
   "metadata": {
    "tags": []
   },
   "outputs": [],
   "source": [
    "train_data = get_data(X_train, y_train)"
   ]
  },
  {
   "cell_type": "code",
   "execution_count": 278,
   "metadata": {},
   "outputs": [],
   "source": [
    "test_data = get_data(X_test, y_test)"
   ]
  },
  {
   "cell_type": "code",
   "execution_count": 279,
   "metadata": {},
   "outputs": [],
   "source": [
    "val_data = get_data(X_val, y_val)"
   ]
  },
  {
   "cell_type": "code",
   "execution_count": 266,
   "metadata": {},
   "outputs": [
    {
     "output_type": "execute_result",
     "data": {
      "text/plain": [
       "(565, 565)"
      ]
     },
     "metadata": {},
     "execution_count": 266
    }
   ],
   "source": [
    "len(val_data['pose']), len(val_data['label'])"
   ]
  },
  {
   "cell_type": "code",
   "execution_count": 280,
   "metadata": {},
   "outputs": [],
   "source": [
    "class Config():\n",
    "    def __init__(self):        \n",
    "        self.frame_l = 32 # the length of frames\n",
    "        self.joint_n = 25 # the number of joints\n",
    "        self.joint_d = 2 # the dimension of classes \n",
    "        self.data_dir = 'NTU/'\n",
    "        self.save_dir = 'data/'\n",
    "C = Config()"
   ]
  },
  {
   "cell_type": "code",
   "execution_count": 281,
   "metadata": {},
   "outputs": [],
   "source": [
    "pickle.dump(train_data, open(C.save_dir+\"train.pkl\", \"wb\"))"
   ]
  },
  {
   "cell_type": "code",
   "execution_count": 282,
   "metadata": {},
   "outputs": [],
   "source": [
    "pickle.dump(test_data, open(C.save_dir+\"test.pkl\", \"wb\"))"
   ]
  },
  {
   "cell_type": "code",
   "execution_count": 283,
   "metadata": {},
   "outputs": [],
   "source": [
    "pickle.dump(val_data, open(C.save_dir+\"valid.pkl\", \"wb\"))"
   ]
  },
  {
   "cell_type": "code",
   "execution_count": 308,
   "metadata": {},
   "outputs": [],
   "source": [
    "for i in range(len(train_data)):\n",
    "    if (train_data['pose'][i] >=1).sum() > 0:\n",
    "        print(i)"
   ]
  },
  {
   "cell_type": "code",
   "execution_count": 299,
   "metadata": {},
   "outputs": [
    {
     "output_type": "execute_result",
     "data": {
      "text/plain": [
       "False"
      ]
     },
     "metadata": {},
     "execution_count": 299
    }
   ],
   "source": [
    "(train_data['pose'][310]).any()"
   ]
  },
  {
   "cell_type": "code",
   "execution_count": null,
   "metadata": {},
   "outputs": [],
   "source": []
  }
 ]
}